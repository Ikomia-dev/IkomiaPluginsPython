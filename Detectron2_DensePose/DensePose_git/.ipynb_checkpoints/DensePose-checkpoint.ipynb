{
 "cells": [
  {
   "cell_type": "code",
   "execution_count": 13,
   "metadata": {},
   "outputs": [
    {
     "name": "stdout",
     "output_type": "stream",
     "text": [
      "{'file_name': 'images/image.jpg', 'scores': tensor([0.9916, 0.9909, 0.9887, 0.9839, 0.9797, 0.9790, 0.9606, 0.9569, 0.9555,\n",
      "        0.6681, 0.5956, 0.5832, 0.5157, 0.3842, 0.3816, 0.3290, 0.2887, 0.1885,\n",
      "        0.1828, 0.1112, 0.1039, 0.0936, 0.0862, 0.0841, 0.0719, 0.0713, 0.0622,\n",
      "        0.0569, 0.0547, 0.0534]), 'pred_boxes_XYXY': tensor([[5.5997e+02, 2.7247e+02, 5.9644e+02, 3.8665e+02],\n",
      "        [4.8973e+01, 2.7476e+02, 8.0023e+01, 3.4138e+02],\n",
      "        [1.1315e+02, 2.6550e+02, 1.5494e+02, 4.0126e+02],\n",
      "        [2.5255e+02, 1.6790e+02, 3.4243e+02, 4.0923e+02],\n",
      "        [1.7239e-01, 2.7651e+02, 7.5050e+01, 4.7761e+02],\n",
      "        [3.4894e+02, 2.6812e+02, 3.8703e+02, 2.9838e+02],\n",
      "        [5.2554e+02, 2.8599e+02, 5.6186e+02, 3.7908e+02],\n",
      "        [4.1094e+02, 2.7263e+02, 4.6228e+02, 3.3515e+02],\n",
      "        [3.8546e+02, 2.7150e+02, 4.1430e+02, 3.0493e+02],\n",
      "        [5.0706e+02, 2.8741e+02, 5.3373e+02, 3.8471e+02],\n",
      "        [5.0312e+02, 2.8356e+02, 5.5775e+02, 3.8879e+02],\n",
      "        [3.4215e+02, 2.6779e+02, 3.6422e+02, 2.9967e+02],\n",
      "        [3.9998e+02, 2.7264e+02, 4.3642e+02, 3.3470e+02],\n",
      "        [5.4985e+02, 2.5709e+02, 5.7322e+02, 3.1055e+02],\n",
      "        [5.0619e+02, 2.8609e+02, 5.2952e+02, 3.4663e+02],\n",
      "        [5.3278e+02, 2.8218e+02, 5.6086e+02, 3.1917e+02],\n",
      "        [5.1034e+02, 2.9425e+02, 5.3140e+02, 3.1751e+02],\n",
      "        [5.2144e+02, 2.8877e+02, 5.3502e+02, 3.1691e+02],\n",
      "        [5.9415e+02, 2.6779e+02, 6.1376e+02, 3.1624e+02],\n",
      "        [5.0511e+02, 2.8503e+02, 5.2514e+02, 3.2421e+02],\n",
      "        [5.1151e+02, 2.8749e+02, 5.2380e+02, 3.1797e+02],\n",
      "        [4.1284e+02, 2.7333e+02, 4.2847e+02, 2.9510e+02],\n",
      "        [5.2627e+02, 2.8924e+02, 5.3829e+02, 3.2203e+02],\n",
      "        [3.2745e+02, 2.5353e+02, 3.4955e+02, 2.9646e+02],\n",
      "        [6.0590e+02, 2.7685e+02, 6.1465e+02, 3.1514e+02],\n",
      "        [5.6040e+02, 2.7103e+02, 5.9529e+02, 3.2718e+02],\n",
      "        [5.1928e+02, 2.8647e+02, 5.4590e+02, 3.2043e+02],\n",
      "        [3.8580e+02, 2.6963e+02, 4.2739e+02, 3.5757e+02],\n",
      "        [2.9950e+02, 2.2197e+02, 3.5044e+02, 4.3112e+02],\n",
      "        [3.5806e+02, 2.7058e+02, 4.2350e+02, 3.1451e+02]]), 'pred_densepose': <densepose.data.structures.DensePoseResult object at 0x7fbec06a4b80>}\n"
     ]
    }
   ],
   "source": [
    "import sys \n",
    "import pickle\n",
    "sys.path.append(\"/home/marie/detectron2/projects/DensePose/\") \n",
    "f = open('dump.pkl', 'rb') \n",
    "data = pickle.load(f)\n",
    "print(data[0])"
   ]
  },
  {
   "cell_type": "code",
   "execution_count": 24,
   "metadata": {},
   "outputs": [
    {
     "ename": "ModuleNotFoundError",
     "evalue": "No module named 'densepose.structures'",
     "output_type": "error",
     "traceback": [
      "\u001b[0;31m----------------------------------------------\u001b[0m",
      "\u001b[0;31mModuleNotFoundError\u001b[0mTraceback (most recent call last)",
      "\u001b[0;32m<ipython-input-24-46ee39a15431>\u001b[0m in \u001b[0;36m<module>\u001b[0;34m\u001b[0m\n\u001b[0;32m----> 1\u001b[0;31m \u001b[0;32mfrom\u001b[0m \u001b[0mdensepose\u001b[0m\u001b[0;34m.\u001b[0m\u001b[0mstructures\u001b[0m \u001b[0;32mimport\u001b[0m \u001b[0mDensePoseResult\u001b[0m\u001b[0;34m\u001b[0m\u001b[0;34m\u001b[0m\u001b[0m\n\u001b[0m\u001b[1;32m      2\u001b[0m \u001b[0mbbox_xyxy\u001b[0m \u001b[0;34m=\u001b[0m \u001b[0mdata\u001b[0m\u001b[0;34m[\u001b[0m\u001b[0;36m0\u001b[0m\u001b[0;34m]\u001b[0m\u001b[0;34m[\u001b[0m\u001b[0;34m'pred_boxes_XYXY'\u001b[0m\u001b[0;34m]\u001b[0m\u001b[0;34m[\u001b[0m\u001b[0;36m0\u001b[0m\u001b[0;34m]\u001b[0m\u001b[0;34m\u001b[0m\u001b[0;34m\u001b[0m\u001b[0m\n\u001b[1;32m      3\u001b[0m \u001b[0mresult_encoded\u001b[0m \u001b[0;34m=\u001b[0m \u001b[0mdata\u001b[0m\u001b[0;34m[\u001b[0m\u001b[0;36m0\u001b[0m\u001b[0;34m]\u001b[0m\u001b[0;34m[\u001b[0m\u001b[0;34m'pred_densepose'\u001b[0m\u001b[0;34m]\u001b[0m\u001b[0;34m.\u001b[0m\u001b[0mresults\u001b[0m\u001b[0;34m[\u001b[0m\u001b[0;36m0\u001b[0m\u001b[0;34m]\u001b[0m\u001b[0;34m\u001b[0m\u001b[0;34m\u001b[0m\u001b[0m\n\u001b[1;32m      4\u001b[0m \u001b[0miuv_arr\u001b[0m \u001b[0;34m=\u001b[0m \u001b[0mDensePoseResult\u001b[0m\u001b[0;34m.\u001b[0m\u001b[0mdecode_png_data\u001b[0m\u001b[0;34m(\u001b[0m\u001b[0;34m*\u001b[0m\u001b[0mresult_encoded\u001b[0m\u001b[0;34m)\u001b[0m\u001b[0;34m\u001b[0m\u001b[0;34m\u001b[0m\u001b[0m\n",
      "\u001b[0;31mModuleNotFoundError\u001b[0m: No module named 'densepose.structures'"
     ]
    }
   ],
   "source": [
    "from densepose.structures import DensePoseResult\n",
    "bbox_xyxy = data[0]['pred_boxes_XYXY'][0]\n",
    "result_encoded = data[0]['pred_densepose'].results[0]\n",
    "iuv_arr = DensePoseResult.decode_png_data(*result_encoded)"
   ]
  },
  {
   "cell_type": "code",
   "execution_count": null,
   "metadata": {},
   "outputs": [],
   "source": []
  }
 ],
 "metadata": {
  "kernelspec": {
   "display_name": "myenv",
   "language": "python",
   "name": "myenv"
  },
  "language_info": {
   "codemirror_mode": {
    "name": "ipython",
    "version": 3
   },
   "file_extension": ".py",
   "mimetype": "text/x-python",
   "name": "python",
   "nbconvert_exporter": "python",
   "pygments_lexer": "ipython3",
   "version": "3.8.3"
  }
 },
 "nbformat": 4,
 "nbformat_minor": 2
}
